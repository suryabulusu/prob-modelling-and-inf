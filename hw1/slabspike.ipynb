{
 "cells": [
  {
   "cell_type": "code",
   "execution_count": 133,
   "metadata": {},
   "outputs": [],
   "source": [
    "import numpy as np\n",
    "import matplotlib.pyplot as plt"
   ]
  },
  {
   "cell_type": "code",
   "execution_count": 134,
   "metadata": {},
   "outputs": [],
   "source": [
    "def normal(x, mu, var):\n",
    "    return np.asarray([(1/np.sqrt(2*np.pi*var))*np.exp((-1/2)*(1/var)*(i-mu)**2) for i in x])"
   ]
  },
  {
   "cell_type": "code",
   "execution_count": 143,
   "metadata": {},
   "outputs": [],
   "source": [
    "x = np.linspace(-15, 15, 100)"
   ]
  },
  {
   "cell_type": "code",
   "execution_count": 144,
   "metadata": {},
   "outputs": [],
   "source": [
    "y = (1/2)*normal(x, 0, 100) + (1/2)*normal(x, 0, 1)"
   ]
  },
  {
   "cell_type": "code",
   "execution_count": 145,
   "metadata": {},
   "outputs": [],
   "source": [
    "plt.figure()\n",
    "plt.plot(x, y, label=\"Marginal Prior\")\n",
    "#plt.plot(x, num/denom, label=\"b=1\")\n",
    "#plt.plot(x, num0/denom, label = \"b=0\")\n",
    "plt.legend()\n",
    "plt.xlabel(\"w\")\n",
    "plt.savefig(\"marginalprior.png\")"
   ]
  },
  {
   "cell_type": "code",
   "execution_count": 146,
   "metadata": {},
   "outputs": [],
   "source": [
    "denom = (normal(x, 0, 100 + 0.01) + normal(x, 0, 1 + 0.01))\n",
    "num1 = normal(x, 0, 100 + 0.01)\n",
    "num0 = normal(x, 0, 1 + 0.01)"
   ]
  },
  {
   "cell_type": "code",
   "execution_count": 147,
   "metadata": {},
   "outputs": [],
   "source": [
    "plt.figure()\n",
    "plt.plot(x, num1/denom, label=\"b=1\")\n",
    "plt.legend()\n",
    "plt.xlabel(\"x\")\n",
    "#plt.show()\n",
    "plt.savefig(\"b1.png\")"
   ]
  },
  {
   "cell_type": "code",
   "execution_count": 149,
   "metadata": {},
   "outputs": [],
   "source": [
    "#posterior\n",
    "plt.figure()\n",
    "w = np.linspace(-10, 10, 1000)\n",
    "t1 = []\n",
    "for welem in w:\n",
    "    t1.append(normal([3], welem, 0.01)[0])\n",
    "t1 = np.asarray(t1)\n",
    "denomp = (normal([3], 0, 100 + 0.01)[0] + normal([3], 0, 1 + 0.01)[0])\n",
    "nump = (normal(w, 0, 100) + normal(w, 0, 1))*t1\n",
    "\n",
    "plt.plot(w, nump/denomp, label=\"Posterior of w\")\n",
    "plt.xlabel(\"w\")\n",
    "plt.legend()\n",
    "plt.savefig(\"postw.png\")"
   ]
  },
  {
   "cell_type": "code",
   "execution_count": null,
   "metadata": {},
   "outputs": [],
   "source": []
  }
 ],
 "metadata": {
  "kernelspec": {
   "display_name": "Python 3",
   "language": "python",
   "name": "python3"
  },
  "language_info": {
   "codemirror_mode": {
    "name": "ipython",
    "version": 3
   },
   "file_extension": ".py",
   "mimetype": "text/x-python",
   "name": "python",
   "nbconvert_exporter": "python",
   "pygments_lexer": "ipython3",
   "version": "3.5.5"
  }
 },
 "nbformat": 4,
 "nbformat_minor": 2
}
