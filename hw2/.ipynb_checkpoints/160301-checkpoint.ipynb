{
 "cells": [
  {
   "cell_type": "code",
   "execution_count": 1,
   "metadata": {},
   "outputs": [],
   "source": [
    "import matplotlib.pyplot as plt\n",
    "import scipy.io\n",
    "import numpy as np\n",
    "from scipy.stats import multivariate_normal\n",
    "from tensorboardX import SummaryWriter"
   ]
  },
  {
   "cell_type": "code",
   "execution_count": 2,
   "metadata": {},
   "outputs": [],
   "source": [
    "mat = scipy.io.loadmat('mnist_small.mat')"
   ]
  },
  {
   "cell_type": "code",
   "execution_count": 3,
   "metadata": {},
   "outputs": [],
   "source": [
    "X = mat['X']\n",
    "y = mat['Y']"
   ]
  },
  {
   "cell_type": "code",
   "execution_count": 32,
   "metadata": {},
   "outputs": [],
   "source": [
    "def gmm(X, K):\n",
    "    writer = SummaryWriter(\"./summary\")\n",
    "    N,D = X.shape\n",
    "    if(K >= N):\n",
    "        print(\"you are trying to make too many clusters\")\n",
    "        return\n",
    "    \n",
    "    numIter = 200\n",
    "    # initialize si2 dumbly\n",
    "    si2 = 1;\n",
    "\n",
    "    # initialize pk uniformly\n",
    "    pk = np.ones(K) / K;\n",
    "    \n",
    "    # we initialize the means totally randomly\n",
    "    mu = np.random.rand(K, D);\n",
    "    z = np.zeros((N,K));\n",
    "    \n",
    "    for iter_ in range(numIter):\n",
    "        print(iter_)\n",
    "        # in the first step, we do assignments: each point is probabilistically\n",
    "        # assigned to each center\n",
    "        \n",
    "        for n in range(N):\n",
    "#             print(\"n = \", n)\n",
    "#             print(\"n = \", n)\n",
    "            for k in range(K):\n",
    "#                 print(\"k = \", k)\n",
    "                # compute z(n,k) = log probability that the nth data point belongs\n",
    "                # to cluster k\n",
    "                z[n][k] = np.log(pk[k]) - np.linalg.norm(mu[k] - X[n])**2 / (2*si2)\n",
    "                    \n",
    "                \n",
    "#                 print(np.log(pk[k]), multivariate_normal.logpdf(X[n], mean=mu[k], cov=si2*np.eye(D)))\n",
    "                \n",
    "            # turn log probabilities into actual probabilities (we are working with logs for numeric stability)\n",
    "            maxZ   = np.max(z[n])\n",
    "#             print(z[n])\n",
    "            z[n] = np.exp(z[n] - maxZ - np.log(np.sum(np.exp(z[n] - maxZ))))\n",
    "#             print(z[n])\n",
    "        \n",
    "        nk = np.array([np.sum(z[:, k]) for k in range(K)])\n",
    "        # re-estimate pk\n",
    "        pk = np.array([nk[k]/N for k in range(K)])\n",
    "        \n",
    "        # re-estimate the means\n",
    "        mu = z.T@X\n",
    "        mu = np.array([mu[k]/nk[k] for k in range(K)])\n",
    "\n",
    "        # re-estimate the means\n",
    "        si2 = 0\n",
    "        \n",
    "        for n in range(N):\n",
    "            for k in range(K):\n",
    "                si2 += z[n][k]*np.square(np.linalg.norm(X[n]-mu[k]))\n",
    "                \n",
    "        si2 = si2/(N*D)\n",
    "        incomplete_log_likelihood = 0\n",
    "        \n",
    "        soft = 1e-5\n",
    "#         for n in range(N):\n",
    "#             temp = 0\n",
    "#             for k in range(K):\n",
    "#                 temp += (pk[k] + soft)*np.exp(-0.5/si2*np.linalg.norm(X[n]-mu[k])**2)*(1/((2*np.pi)**(D/2))*((si2)**D))\n",
    "# #                 temp += n+1\n",
    "#             incomplete_log_likelihood += np.log(temp)\n",
    "#         print(incomplete_log_likelihood)\n",
    "#         writer.add_scalar('scalar1', incomplete_log_likelihood, iter_)\n",
    "    writer.close()   \n",
    "    return pk, mu, si2\n",
    "            \n",
    "    \n",
    "    \n",
    "# If you want to diagnose if EM is working properly, you can monitor the\n",
    "# incomplete data log-likelihood (it should be monotonically increasing)\n",
    "    "
   ]
  },
  {
   "cell_type": "code",
   "execution_count": 33,
   "metadata": {
    "scrolled": true
   },
   "outputs": [
    {
     "name": "stdout",
     "output_type": "stream",
     "text": [
      "0\n",
      "1\n",
      "2\n",
      "3\n",
      "4\n",
      "5\n",
      "6\n",
      "7\n",
      "8\n",
      "9\n",
      "10\n",
      "11\n",
      "12\n",
      "13\n",
      "14\n",
      "15\n",
      "16\n",
      "17\n",
      "18\n",
      "19\n",
      "20\n",
      "21\n",
      "22\n",
      "23\n",
      "24\n",
      "25\n",
      "26\n",
      "27\n",
      "28\n",
      "29\n",
      "30\n",
      "31\n",
      "32\n",
      "33\n",
      "34\n",
      "35\n",
      "36\n",
      "37\n",
      "38\n",
      "39\n",
      "40\n",
      "41\n",
      "42\n",
      "43\n",
      "44\n",
      "45\n",
      "46\n",
      "47\n",
      "48\n",
      "49\n",
      "50\n",
      "51\n",
      "52\n",
      "53\n",
      "54\n",
      "55\n",
      "56\n",
      "57\n",
      "58\n",
      "59\n",
      "60\n",
      "61\n",
      "62\n",
      "63\n",
      "64\n",
      "65\n",
      "66\n",
      "67\n",
      "68\n",
      "69\n",
      "70\n",
      "71\n",
      "72\n",
      "73\n",
      "74\n",
      "75\n",
      "76\n",
      "77\n",
      "78\n",
      "79\n",
      "80\n",
      "81\n",
      "82\n",
      "83\n",
      "84\n",
      "85\n",
      "86\n",
      "87\n",
      "88\n",
      "89\n",
      "90\n",
      "91\n",
      "92\n",
      "93\n",
      "94\n",
      "95\n",
      "96\n",
      "97\n",
      "98\n",
      "99\n",
      "100\n",
      "101\n",
      "102\n",
      "103\n",
      "104\n",
      "105\n",
      "106\n",
      "107\n",
      "108\n",
      "109\n",
      "110\n",
      "111\n",
      "112\n",
      "113\n",
      "114\n",
      "115\n",
      "116\n",
      "117\n",
      "118\n",
      "119\n",
      "120\n",
      "121\n",
      "122\n",
      "123\n",
      "124\n",
      "125\n",
      "126\n",
      "127\n",
      "128\n",
      "129\n",
      "130\n",
      "131\n",
      "132\n",
      "133\n",
      "134\n",
      "135\n",
      "136\n",
      "137\n",
      "138\n",
      "139\n",
      "140\n",
      "141\n",
      "142\n",
      "143\n",
      "144\n",
      "145\n",
      "146\n",
      "147\n",
      "148\n",
      "149\n",
      "150\n",
      "151\n",
      "152\n",
      "153\n",
      "154\n",
      "155\n",
      "156\n",
      "157\n",
      "158\n",
      "159\n",
      "160\n",
      "161\n",
      "162\n",
      "163\n",
      "164\n",
      "165\n",
      "166\n",
      "167\n",
      "168\n",
      "169\n",
      "170\n",
      "171\n",
      "172\n",
      "173\n",
      "174\n",
      "175\n",
      "176\n",
      "177\n",
      "178\n",
      "179\n",
      "180\n",
      "181\n",
      "182\n",
      "183\n",
      "184\n",
      "185\n",
      "186\n",
      "187\n",
      "188\n",
      "189\n",
      "190\n",
      "191\n",
      "192\n",
      "193\n",
      "194\n",
      "195\n",
      "196\n",
      "197\n",
      "198\n",
      "199\n"
     ]
    }
   ],
   "source": [
    "pk, mu, si2 = gmm(X,10)"
   ]
  },
  {
   "cell_type": "code",
   "execution_count": 38,
   "metadata": {},
   "outputs": [
    {
     "data": {
      "text/plain": [
       "array([[0., 0., 0., ..., 0., 0., 0.],\n",
       "       [0., 0., 0., ..., 0., 0., 0.],\n",
       "       [0., 0., 0., ..., 0., 0., 0.],\n",
       "       ...,\n",
       "       [0., 0., 0., ..., 0., 0., 0.],\n",
       "       [0., 0., 0., ..., 0., 0., 0.],\n",
       "       [0., 0., 0., ..., 0., 0., 0.]])"
      ]
     },
     "execution_count": 38,
     "metadata": {},
     "output_type": "execute_result"
    }
   ],
   "source": [
    "mu"
   ]
  },
  {
   "cell_type": "code",
   "execution_count": 34,
   "metadata": {},
   "outputs": [
    {
     "data": {
      "image/png": "[encoded data removed]",
      "text/plain": [
       "<Figure size 432x288 with 1 Axes>"
      ]
     },
     "metadata": {
      "needs_background": "light"
     },
     "output_type": "display_data"
    },
    {
     "data": {
      "image/png": "[encoded data removed]",
      "text/plain": [
       "<Figure size 432x288 with 1 Axes>"
      ]
     },
     "metadata": {
      "needs_background": "light"
     },
     "output_type": "display_data"
    },
    {
     "data": {
      "image/png": "[encoded data removed]",
      "text/plain": [
       "<Figure size 432x288 with 1 Axes>"
      ]
     },
     "metadata": {
      "needs_background": "light"
     },
     "output_type": "display_data"
    },
    {
     "data": {
      "image/png": "[encoded data removed]",
      "text/plain": [
       "<Figure size 432x288 with 1 Axes>"
      ]
     },
     "metadata": {
      "needs_background": "light"
     },
     "output_type": "display_data"
    },
    {
     "data": {
      "image/png": "[encoded data removed]",
      "text/plain": [
       "<Figure size 432x288 with 1 Axes>"
      ]
     },
     "metadata": {
      "needs_background": "light"
     },
     "output_type": "display_data"
    },
    {
     "data": {
      "image/png": "[encoded data removed]",
      "text/plain": [
       "<Figure size 432x288 with 1 Axes>"
      ]
     },
     "metadata": {
      "needs_background": "light"
     },
     "output_type": "display_data"
    },
    {
     "data": {
      "image/png": "[encoded data removed]",
      "text/plain": [
       "<Figure size 432x288 with 1 Axes>"
      ]
     },
     "metadata": {
      "needs_background": "light"
     },
     "output_type": "display_data"
    },
    {
     "data": {
      "image/png": "[encoded data removed]",
      "text/plain": [
       "<Figure size 432x288 with 1 Axes>"
      ]
     },
     "metadata": {
      "needs_background": "light"
     },
     "output_type": "display_data"
    },
    {
     "data": {
      "image/png": "[encoded data removed]",
      "text/plain": [
       "<Figure size 432x288 with 1 Axes>"
      ]
     },
     "metadata": {
      "needs_background": "light"
     },
     "output_type": "display_data"
    },
    {
     "data": {
      "image/png": "[encoded data removed]",
      "text/plain": [
       "<Figure size 432x288 with 1 Axes>"
      ]
     },
     "metadata": {
      "needs_background": "light"
     },
     "output_type": "display_data"
    }
   ],
   "source": [
    "for k in range(10):\n",
    "    plt.imshow(mu[k].reshape(28, 28), cmap=\"gray\")\n",
    "    plt.show()"
   ]
  },
  {
   "cell_type": "code",
   "execution_count": null,
   "metadata": {
    "scrolled": true
   },
   "outputs": [],
   "source": [
    "np.max(mu[0])"
   ]
  },
  {
   "cell_type": "code",
   "execution_count": null,
   "metadata": {},
   "outputs": [],
   "source": [
    "def gmm_online(X, K)\n",
    "\n",
    "    N,D = X.shape # CHANGE HERE\n",
    "    \n",
    "    if(K >= N):\n",
    "        print(\"you are trying to make too many clusters\")\n",
    "        return\n",
    "    \n",
    "    numIter = 20\n",
    "    # initialize si2 dumbly\n",
    "    si2 = 1;\n",
    "\n",
    "    # initialize pk uniformly\n",
    "    pk = np.ones(K) / K;\n",
    "    \n",
    "    # we initialize the means totally randomly\n",
    "    mu = np.random.rand(K, D);\n",
    "    z = np.zeros((mini_batch_size,K));\n",
    "    \n",
    "    mini_batch_size = 100\n",
    "    offset = 0\n",
    "    kappa = 0.55\n",
    "    \n",
    "    for iter_ in range(numIter):\n",
    "        learning_rate = (iter_ + 1)**(0.55)\n",
    "        start_index = iter_ + offset\n",
    "        end_index = start_index + mini_batch_size\n",
    "        \n",
    "        for n in range(start_index, end_index):\n",
    "            for k in range(K):\n",
    "                z[n-start_index][k] = np.log(pk[k]) + multivariate_normal.logpdf(X[n], mean=mu[k], cov=si2*np.eye(D))\n",
    "                \n",
    "            maxZ   = np.max(z[n-start_index])\n",
    "            \n",
    "            z[n-start_index] = np.exp(z[n-start_index] - maxZ - np.log(np.sum(np.exp(z[n-start_index] - maxZ))))\n",
    "        nk = np.array([np.sum(z[:,k]) for k in range(K)])\n",
    "        pk = (1-learning_rate)*pk + learning_rate*np.array([nk[k]/N for k in range(K)])\n",
    "        \n",
    "        mu_old = mu\n",
    "        mu = z.T@X\n",
    "        mu = (1-learning_rate)*mu_old + learning_rate*np.array([mu[k]/nk[k] for k in range(K)])\n",
    "        \n",
    "        si2_old = si2\n",
    "        si2 = 0\n",
    "        \n",
    "        for n in range(N):\n",
    "            for k in range(K):\n",
    "                si2 += z[n][k]*np.square(np.linalg.norm(X[n]-mu[k]))\n",
    "                \n",
    "        si2 = si2/(N*D)\n",
    "        si2 = (1-learning_rate)*si2_old + learning_rate*si2\n",
    "        \n",
    "        offset += mini_batch_size\n",
    "        \n",
    "    \n",
    "    return pk, mu, si2"
   ]
  },
  {
   "cell_type": "code",
   "execution_count": null,
   "metadata": {},
   "outputs": [],
   "source": [
    "z = np.random.rand(100, 200)"
   ]
  },
  {
   "cell_type": "code",
   "execution_count": null,
   "metadata": {},
   "outputs": [],
   "source": [
    "z[:, 1].shape"
   ]
  }
 ],
 "metadata": {
  "kernelspec": {
   "display_name": "Python 3",
   "language": "python",
   "name": "python3"
  },
  "language_info": {
   "codemirror_mode": {
    "name": "ipython",
    "version": 3
   },
   "file_extension": ".py",
   "mimetype": "text/x-python",
   "name": "python",
   "nbconvert_exporter": "python",
   "pygments_lexer": "ipython3",
   "version": "3.6.7"
  }
 },
 "nbformat": 4,
 "nbformat_minor": 2
}
