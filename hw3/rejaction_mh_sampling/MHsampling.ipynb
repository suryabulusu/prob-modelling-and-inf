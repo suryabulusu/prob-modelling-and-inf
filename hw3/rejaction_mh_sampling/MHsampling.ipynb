{
 "cells": [
  {
   "cell_type": "code",
   "execution_count": 1,
   "metadata": {},
   "outputs": [
    {
     "ename": "ModuleNotFoundError",
     "evalue": "No module named 'numpy'",
     "output_type": "error",
     "traceback": [
      "\u001b[0;31m---------------------------------------------------------------------------\u001b[0m",
      "\u001b[0;31mModuleNotFoundError\u001b[0m                       Traceback (most recent call last)",
      "\u001b[0;32m<ipython-input-1-eb558b89e6f5>\u001b[0m in \u001b[0;36m<module>\u001b[0;34m()\u001b[0m\n\u001b[0;32m----> 1\u001b[0;31m \u001b[0;32mimport\u001b[0m \u001b[0mnumpy\u001b[0m \u001b[0;32mas\u001b[0m \u001b[0mnp\u001b[0m\u001b[0;34m\u001b[0m\u001b[0;34m\u001b[0m\u001b[0m\n\u001b[0m\u001b[1;32m      2\u001b[0m \u001b[0;32mimport\u001b[0m \u001b[0mmatplotlib\u001b[0m\u001b[0;34m.\u001b[0m\u001b[0mpyplot\u001b[0m \u001b[0;32mas\u001b[0m \u001b[0mplt\u001b[0m\u001b[0;34m\u001b[0m\u001b[0;34m\u001b[0m\u001b[0m\n\u001b[1;32m      3\u001b[0m \u001b[0;32mimport\u001b[0m \u001b[0mscipy\u001b[0m\u001b[0;34m.\u001b[0m\u001b[0mstats\u001b[0m \u001b[0;32mas\u001b[0m \u001b[0mst\u001b[0m\u001b[0;34m\u001b[0m\u001b[0;34m\u001b[0m\u001b[0m\n\u001b[1;32m      4\u001b[0m \u001b[0;32mimport\u001b[0m \u001b[0mtime\u001b[0m\u001b[0;34m\u001b[0m\u001b[0;34m\u001b[0m\u001b[0m\n",
      "\u001b[0;31mModuleNotFoundError\u001b[0m: No module named 'numpy'"
     ]
    }
   ],
   "source": [
    "import numpy as np\n",
    "import matplotlib.pyplot as plt\n",
    "import scipy.stats as st\n",
    "import time"
   ]
  },
  {
   "cell_type": "code",
   "execution_count": 133,
   "metadata": {},
   "outputs": [],
   "source": [
    "def calc_pcap(x):\n",
    "    mu = np.asarray([4,4])\n",
    "    var = np.asarray([[1, 0.8], [0.8, 1]])\n",
    "    expo = np.exp(-0.5*(x-mu).T @ np.linalg.inv(var) @ (x-mu))\n",
    "    return expo"
   ]
  },
  {
   "cell_type": "code",
   "execution_count": 162,
   "metadata": {},
   "outputs": [
    {
     "name": "stdout",
     "output_type": "stream",
     "text": [
      "si2 =  0.01\n",
      "Samples collected :  1000\n",
      "Samples collected :  2000\n",
      "Samples collected :  3000\n",
      "Samples collected :  4000\n",
      "Samples collected :  5000\n",
      "Samples collected :  6000\n",
      "Samples collected :  7000\n",
      "Samples collected :  8000\n",
      "Samples collected :  9000\n",
      "Samples collected :  10000\n",
      "Time for collecting 10000 samples when si2 =  0.01 is 29.573988914489746\n",
      "Rejection rate for si2 = 0.01 is 0.07978282874758442\n",
      "si2 =  1\n",
      "Samples collected :  1000\n",
      "Samples collected :  2000\n",
      "Samples collected :  3000\n",
      "Samples collected :  4000\n",
      "Samples collected :  5000\n",
      "Samples collected :  6000\n",
      "Samples collected :  7000\n",
      "Samples collected :  8000\n",
      "Samples collected :  9000\n",
      "Samples collected :  10000\n",
      "Time for collecting 10000 samples when si2 =  1 is 85.12750387191772\n",
      "Rejection rate for si2 = 1 is 0.5936611133685493\n",
      "si2 =  100\n",
      "Samples collected :  1000\n",
      "Samples collected :  2000\n",
      "Samples collected :  3000\n",
      "Samples collected :  4000\n",
      "Samples collected :  5000\n",
      "Samples collected :  6000\n",
      "Samples collected :  7000\n",
      "Samples collected :  8000\n",
      "Samples collected :  9000\n",
      "Samples collected :  10000\n",
      "Time for collecting 10000 samples when si2 =  100 is 2486.805669784546\n",
      "Rejection rate for si2 = 100 is 0.9882638888073881\n"
     ]
    }
   ],
   "source": [
    "np.random.seed(7)\n",
    "S = 10000 # samples needed\n",
    "Si2 = [0.01, 1, 100]\n",
    "\n",
    "gridx, gridy = np.mgrid[2:7:0.1, 2:7:0.1]\n",
    "pos = np.empty(gridx.shape + (2,))\n",
    "pos[:, :, 0] = gridx; pos[:, :, 1] = gridy\n",
    "p = st.multivariate_normal(mean = [4,4], cov = [[1, 0.8], [0.8, 1]])\n",
    "\n",
    "\n",
    "for si2 in Si2:\n",
    "    samples = np.empty([S, 2])\n",
    "    current = np.asarray([0,0]) # z_0 \n",
    "    var = si2*np.eye(2)\n",
    "    print(\"si2 = \", si2)\n",
    "    s = 0 # no of accepted samples so far\n",
    "    stime = time.time()\n",
    "    T = 0\n",
    "    \n",
    "    while s < S:\n",
    "        T += 1\n",
    "        \n",
    "        samples[s] = current\n",
    "        z = st.multivariate_normal.rvs(mean = current, cov = var)\n",
    "        num = calc_pcap(z) * st.multivariate_normal.pdf(current, mean = z, cov = var)\n",
    "        den = calc_pcap(current) * st.multivariate_normal.pdf(z, mean = current, cov = var)\n",
    "        acc_prob = num / den\n",
    "\n",
    "        if st.uniform.rvs() < acc_prob:\n",
    "            s += 1\n",
    "            if s % 1000 == 0: print(\"Samples collected : \", s)\n",
    "            current = z\n",
    "\n",
    "        if (s == 100 or s == 1000 or s == 5000 or s == 10000):\n",
    "            plt.figure(figsize=(9,9))\n",
    "\n",
    "            # plot of samples (blue)\n",
    "            scat = plt.plot(samples[:s, 0], samples[:s, 1], \".\", label = \"Samples\", alpha = 0.6, zorder=1)\n",
    "\n",
    "            # plot of p(z) (red) [original]\n",
    "            plt.contour(gridx, gridy, p.pdf(pos), levels = 0.05, colors = [\"red\"], linewidths=4, zorder = 5)\n",
    "\n",
    "            # plot of p_cap(z) (yellow) [approximated]\n",
    "            curr_mean = np.mean(samples[:s], axis = 0)\n",
    "            curr_var = np.cov(samples[:s], rowvar= False)\n",
    "            p_star = st.multivariate_normal(mean = curr_mean, cov = curr_var)\n",
    "            limxlow = round(np.min(samples[:s, 0]))-1; limylow = round(np.min(samples[:s, 1]))-1;\n",
    "            limxhigh = round(np.max(samples[:s, 0]))+1; limyhigh = round(np.max(samples[:s, 1]))+1;\n",
    "            gridx_c, gridy_c = np.mgrid[limxlow:limxhigh:0.1, limylow:limyhigh:0.1]\n",
    "            pos_c = np.empty(gridx_c.shape + (2,))\n",
    "            pos_c[:, :, 0] = gridx_c; pos_c[:, :, 1] = gridy_c\n",
    "            plt.contour(gridx_c, gridy_c, p_star.pdf(pos_c), levels = 0.05, colors = [\"yellow\"], linewidths = 4, zorder = 10)\n",
    "\n",
    "            plt.title(\"Approximation with \" + str(s) + \" Samples for si2 = \"+str(si2))\n",
    "            plt.xlabel(\"x\")\n",
    "            plt.ylabel(\"y\")\n",
    "            proxy = [plt.Rectangle((0,0),0.01,1,fc = \"red\"), plt.Rectangle((0,0),0.01,1,fc = \"yellow\")]\n",
    "            plt.legend(proxy, [\"p(z)\", \"p_cap(z)\"])\n",
    "            plt.savefig(\"MH\"+str(s)+\"si2\"+str(si2)+\".png\")\n",
    "            plt.close() \n",
    "    \n",
    "    print(\"Time for collecting 10000 samples when si2 = \", si2, \"is\", time.time()-stime)\n",
    "    print(\"Rejection rate for si2 =\", si2,\"is\", (T - s)/T)"
   ]
  },
  {
   "cell_type": "code",
   "execution_count": null,
   "metadata": {},
   "outputs": [],
   "source": []
  }
 ],
 "metadata": {
  "kernelspec": {
   "display_name": "Python 3",
   "language": "python",
   "name": "python3"
  },
  "language_info": {
   "codemirror_mode": {
    "name": "ipython",
    "version": 3
   },
   "file_extension": ".py",
   "mimetype": "text/x-python",
   "name": "python",
   "nbconvert_exporter": "python",
   "pygments_lexer": "ipython3",
   "version": "3.6.9"
  }
 },
 "nbformat": 4,
 "nbformat_minor": 2
}
